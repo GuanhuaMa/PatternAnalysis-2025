{
 "cells": [
  {
   "cell_type": "code",
   "execution_count": null,
   "id": "86c0c3bc",
   "metadata": {
    "vscode": {
     "languageId": "plaintext"
    }
   },
   "outputs": [],
   "source": [
    "# Run Task 3 in Google Colab\n",
    "\n",
    "from google.colab import drive\n",
    "drive.mount('/content/drive', force_remount=True) \n",
    "\n",
    "!pip install nibabel -q \n",
    "\n",
    "import os\n",
    "base_dir = \"/content/drive/MyDrive/Colab-Notebooks/UNet_task3_48339261\"\n",
    "os.chdir(base_dir)\n",
    "\n",
    "# load dataset and train model. save hipmri_unet_model.pth and .png \n",
    "print(\"Starting process train.py\")\n",
    "!python train.py\n",
    "\n",
    "# save final_predictions.png\n",
    "print(\"Starting process predict.py\")\n",
    "!python predict.py\n",
    "\n",
    "print(\"Successful!\")\n",
    "print(\"Check the documents:\")\n",
    "print(\"hipmri_unet_model.pth\")\n",
    "print(\"training_loss_curve.png\")\n",
    "print(\"epoch_X_predictions.png\")\n",
    "print(\"final_predictions.png\")"
   ]
  }
 ],
 "metadata": {
  "language_info": {
   "name": "python"
  }
 },
 "nbformat": 4,
 "nbformat_minor": 5
}
